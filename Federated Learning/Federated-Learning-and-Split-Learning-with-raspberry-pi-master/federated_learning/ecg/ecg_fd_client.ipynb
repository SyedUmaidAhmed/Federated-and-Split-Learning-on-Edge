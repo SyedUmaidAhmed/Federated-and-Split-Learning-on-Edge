{
 "cells": [
  {
   "cell_type": "markdown",
   "metadata": {},
   "source": [
    "# ECG Federated 1D-CNN Client Side\n",
    "This code is the server part of ECG federated 1D-CNN model for **multi** client and a server."
   ]
  },
  {
   "cell_type": "code",
   "execution_count": 1,
   "metadata": {},
   "outputs": [],
   "source": [
    "users = 2 # number of clients"
   ]
  },
  {
   "cell_type": "code",
   "execution_count": 2,
   "metadata": {},
   "outputs": [],
   "source": [
    "import os\n",
    "import h5py\n",
    "\n",
    "import socket\n",
    "import struct\n",
    "import pickle\n",
    "\n",
    "import torch\n",
    "import torch.nn as nn\n",
    "import torch.nn.functional as F\n",
    "import torch.optim as optim\n",
    "\n",
    "from torch.utils.data import Dataset, DataLoader\n",
    "from torch.optim import Adam\n",
    "\n",
    "# for image\n",
    "# import matplotlib.pyplot as plt\n",
    "# import numpy as np\n",
    "\n",
    "import time\n",
    "\n",
    "from tqdm import tqdm"
   ]
  },
  {
   "cell_type": "code",
   "execution_count": 3,
   "metadata": {},
   "outputs": [],
   "source": [
    "root_path = '../../models/'"
   ]
  },
  {
   "cell_type": "markdown",
   "metadata": {},
   "source": [
    "## Cuda"
   ]
  },
  {
   "cell_type": "code",
   "execution_count": 4,
   "metadata": {},
   "outputs": [
    {
     "name": "stdout",
     "output_type": "stream",
     "text": [
      "cpu\n"
     ]
    }
   ],
   "source": [
    "# device = torch.device(\"cuda:0\" if torch.cuda.is_available() else \"cpu\")\n",
    "device = \"cpu\"\n",
    "print(device)"
   ]
  },
  {
   "cell_type": "code",
   "execution_count": 5,
   "metadata": {},
   "outputs": [
    {
     "name": "stdout",
     "output_type": "stream",
     "text": [
      "client_order(start from 0): 0\n"
     ]
    }
   ],
   "source": [
    "client_order = int(input(\"client_order(start from 0): \"))"
   ]
  },
  {
   "cell_type": "code",
   "execution_count": 6,
   "metadata": {},
   "outputs": [],
   "source": [
    "num_traindata = 13244 // users"
   ]
  },
  {
   "cell_type": "markdown",
   "metadata": {},
   "source": [
    "## Data load"
   ]
  },
  {
   "cell_type": "code",
   "execution_count": 7,
   "metadata": {},
   "outputs": [],
   "source": [
    "class ECG(Dataset):\n",
    "    def __init__(self, train=True):\n",
    "        if train:\n",
    "            # total: 13244\n",
    "            with h5py.File(os.path.join(root_path, 'ecg_data', 'train_ecg.hdf5'), 'r') as hdf:\n",
    "                self.x = hdf['x_train'][num_traindata * client_order : num_traindata * (client_order + 1)]\n",
    "                self.y = hdf['y_train'][num_traindata * client_order : num_traindata * (client_order + 1)]\n",
    "\n",
    "        else:\n",
    "            with h5py.File(os.path.join(root_path, 'ecg_data', 'test_ecg.hdf5'), 'r') as hdf:\n",
    "                self.x = hdf['x_test'][:]\n",
    "                self.y = hdf['y_test'][:]\n",
    "    \n",
    "    def __len__(self):\n",
    "        return len(self.x)\n",
    "    \n",
    "    def __getitem__(self, idx):\n",
    "        return torch.tensor(self.x[idx], dtype=torch.float), torch.tensor(self.y[idx])"
   ]
  },
  {
   "cell_type": "markdown",
   "metadata": {},
   "source": [
    "## Making Batch Generator"
   ]
  },
  {
   "cell_type": "code",
   "execution_count": 8,
   "metadata": {},
   "outputs": [],
   "source": [
    "batch_size = 32"
   ]
  },
  {
   "cell_type": "markdown",
   "metadata": {},
   "source": [
    "### `DataLoader` for batch generating\n",
    "`torch.utils.data.DataLoader(dataset, batch_size=1, shuffle=False)`"
   ]
  },
  {
   "cell_type": "code",
   "execution_count": 9,
   "metadata": {},
   "outputs": [],
   "source": [
    "train_dataset = ECG(train=True)\n",
    "test_dataset = ECG(train=False)\n",
    "trainloader = DataLoader(train_dataset, batch_size=batch_size, shuffle=True)\n",
    "testloader = DataLoader(test_dataset, batch_size=batch_size)"
   ]
  },
  {
   "cell_type": "markdown",
   "metadata": {},
   "source": [
    "### Number of total batches"
   ]
  },
  {
   "cell_type": "code",
   "execution_count": 10,
   "metadata": {},
   "outputs": [
    {
     "name": "stdout",
     "output_type": "stream",
     "text": [
      "207\n",
      "414\n"
     ]
    }
   ],
   "source": [
    "train_total_batch = len(trainloader)\n",
    "print(train_total_batch)\n",
    "test_batch = len(testloader)\n",
    "print(test_batch)"
   ]
  },
  {
   "cell_type": "markdown",
   "metadata": {},
   "source": [
    "## Pytorch layer modules for *Conv1D* Network\n",
    "\n",
    "\n",
    "\n",
    "### `Conv1d` layer\n",
    "- `torch.nn.Conv1d(in_channels, out_channels, kernel_size)`\n",
    "\n",
    "### `MaxPool1d` layer\n",
    "- `torch.nn.MaxPool1d(kernel_size, stride=None)`\n",
    "- Parameter `stride` follows `kernel_size`.\n",
    "\n",
    "### `ReLU` layer\n",
    "- `torch.nn.ReLU()`\n",
    "\n",
    "### `Linear` layer\n",
    "- `torch.nn.Linear(in_features, out_features, bias=True)`\n",
    "\n",
    "### `Softmax` layer\n",
    "- `torch.nn.Softmax(dim=None)`\n",
    "- Parameter `dim` is usually set to `1`.\n",
    "\n",
    "## Construct 1D-CNN ECG classification model"
   ]
  },
  {
   "cell_type": "code",
   "execution_count": 11,
   "metadata": {},
   "outputs": [],
   "source": [
    "class EcgConv1d(nn.Module):\n",
    "    def __init__(self):\n",
    "        super(EcgConv1d, self).__init__()        \n",
    "        self.conv1 = nn.Conv1d(1, 16, 7)  # 124 x 16        \n",
    "        self.relu1 = nn.LeakyReLU()\n",
    "        self.pool1 = nn.MaxPool1d(2)  # 62 x 16\n",
    "        self.conv2 = nn.Conv1d(16, 16, 5)  # 58 x 16\n",
    "        self.relu2 = nn.LeakyReLU()        \n",
    "        self.conv3 = nn.Conv1d(16, 16, 5)  # 54 x 16\n",
    "        self.relu3 = nn.LeakyReLU()        \n",
    "        self.conv4 = nn.Conv1d(16, 16, 5)  # 50 x 16\n",
    "        self.relu4 = nn.LeakyReLU()\n",
    "        self.pool4 = nn.MaxPool1d(2)  # 25 x 16\n",
    "        self.linear5 = nn.Linear(25 * 16, 128)\n",
    "        self.relu5 = nn.LeakyReLU()        \n",
    "        self.linear6 = nn.Linear(128, 5)\n",
    "        self.softmax6 = nn.Softmax(dim=1)\n",
    "    \n",
    "    def forward(self, x):\n",
    "        x = self.conv1(x)\n",
    "        x = self.relu1(x)\n",
    "        x = self.pool1(x)        \n",
    "        x = self.conv2(x)\n",
    "        x = self.relu2(x)        \n",
    "        x = self.conv3(x)\n",
    "        x = self.relu3(x)        \n",
    "        x = self.conv4(x)\n",
    "        x = self.relu4(x)\n",
    "        x = self.pool4(x)\n",
    "        x = x.view(-1, 25 * 16)\n",
    "        x = self.linear5(x)\n",
    "        x = self.relu5(x)        \n",
    "        x = self.linear6(x)\n",
    "        x = self.softmax6(x)\n",
    "        return x        "
   ]
  },
  {
   "cell_type": "code",
   "execution_count": 12,
   "metadata": {},
   "outputs": [
    {
     "data": {
      "text/plain": [
       "EcgConv1d(\n",
       "  (conv1): Conv1d(1, 16, kernel_size=(7,), stride=(1,))\n",
       "  (relu1): LeakyReLU(negative_slope=0.01)\n",
       "  (pool1): MaxPool1d(kernel_size=2, stride=2, padding=0, dilation=1, ceil_mode=False)\n",
       "  (conv2): Conv1d(16, 16, kernel_size=(5,), stride=(1,))\n",
       "  (relu2): LeakyReLU(negative_slope=0.01)\n",
       "  (conv3): Conv1d(16, 16, kernel_size=(5,), stride=(1,))\n",
       "  (relu3): LeakyReLU(negative_slope=0.01)\n",
       "  (conv4): Conv1d(16, 16, kernel_size=(5,), stride=(1,))\n",
       "  (relu4): LeakyReLU(negative_slope=0.01)\n",
       "  (pool4): MaxPool1d(kernel_size=2, stride=2, padding=0, dilation=1, ceil_mode=False)\n",
       "  (linear5): Linear(in_features=400, out_features=128, bias=True)\n",
       "  (relu5): LeakyReLU(negative_slope=0.01)\n",
       "  (linear6): Linear(in_features=128, out_features=5, bias=True)\n",
       "  (softmax6): Softmax(dim=1)\n",
       ")"
      ]
     },
     "execution_count": 12,
     "metadata": {},
     "output_type": "execute_result"
    }
   ],
   "source": [
    "ecg_net = EcgConv1d()\n",
    "ecg_net.to(device)"
   ]
  },
  {
   "cell_type": "code",
   "execution_count": 13,
   "metadata": {},
   "outputs": [],
   "source": [
    "criterion = nn.CrossEntropyLoss()\n",
    "rounds = 400 # default\n",
    "local_epochs = 1 # default\n",
    "lr = 0.001\n",
    "optimizer = Adam(ecg_net.parameters(), lr=lr)"
   ]
  },
  {
   "cell_type": "markdown",
   "metadata": {},
   "source": [
    "## Socket initialization\n",
    "### Required socket functions"
   ]
  },
  {
   "cell_type": "code",
   "execution_count": 14,
   "metadata": {},
   "outputs": [],
   "source": [
    "def send_msg(sock, msg):\n",
    "    # prefix each message with a 4-byte length in network byte order\n",
    "    msg = pickle.dumps(msg)\n",
    "    msg = struct.pack('>I', len(msg)) + msg\n",
    "    sock.sendall(msg)\n",
    "\n",
    "def recv_msg(sock):\n",
    "    # read message length and unpack it into an integer\n",
    "    raw_msglen = recvall(sock, 4)\n",
    "    if not raw_msglen:\n",
    "        return None\n",
    "    msglen = struct.unpack('>I', raw_msglen)[0]\n",
    "    # read the message data\n",
    "    msg =  recvall(sock, msglen)\n",
    "    msg = pickle.loads(msg)\n",
    "    return msg\n",
    "\n",
    "def recvall(sock, n):\n",
    "    # helper function to receive n bytes or return None if EOF is hit\n",
    "    data = b''\n",
    "    while len(data) < n:\n",
    "        packet = sock.recv(n - len(data))\n",
    "        if not packet:\n",
    "            return None\n",
    "        data += packet\n",
    "    return data"
   ]
  },
  {
   "cell_type": "markdown",
   "metadata": {},
   "source": [
    "### Set host address and port number"
   ]
  },
  {
   "cell_type": "code",
   "execution_count": 15,
   "metadata": {},
   "outputs": [
    {
     "name": "stdout",
     "output_type": "stream",
     "text": [
      "IP address: 192.168.83.1\n"
     ]
    }
   ],
   "source": [
    "host = input(\"IP address: \")\n",
    "port = 10080\n",
    "max_recv = 100000"
   ]
  },
  {
   "cell_type": "markdown",
   "metadata": {},
   "source": [
    "### Open the client socket"
   ]
  },
  {
   "cell_type": "code",
   "execution_count": 16,
   "metadata": {},
   "outputs": [],
   "source": [
    "s = socket.socket()\n",
    "s.connect((host, port))"
   ]
  },
  {
   "cell_type": "markdown",
   "metadata": {},
   "source": [
    "## SET TIMER"
   ]
  },
  {
   "cell_type": "code",
   "execution_count": 17,
   "metadata": {},
   "outputs": [
    {
     "name": "stdout",
     "output_type": "stream",
     "text": [
      "timmer start!\n"
     ]
    }
   ],
   "source": [
    "start_time = time.time()    # store start time\n",
    "print(\"timmer start!\")"
   ]
  },
  {
   "cell_type": "code",
   "execution_count": 18,
   "metadata": {},
   "outputs": [],
   "source": [
    "msg = recv_msg(s)\n",
    "rounds = msg['rounds'] \n",
    "client_id = msg['client_id']\n",
    "local_epochs = msg['local_epoch']\n",
    "send_msg(s, len(train_dataset))"
   ]
  },
  {
   "cell_type": "code",
   "execution_count": 19,
   "metadata": {},
   "outputs": [
    {
     "name": "stderr",
     "output_type": "stream",
     "text": [
      "Round 1_1: 100%|██████████████████████████████████████████████████| 207/207 [00:04<00:00, 48.23it/s]\n",
      "C:\\Users\\rlaal\\anaconda3\\envs\\py36\\lib\\site-packages\\torch\\storage.py:34: FutureWarning: pickle support for Storage will be removed in 1.5. Use `torch.save` instead\n",
      "  warnings.warn(\"pickle support for Storage will be removed in 1.5. Use `torch.save` instead\", FutureWarning)\n",
      "Round 2_1: 100%|██████████████████████████████████████████████████| 207/207 [00:03<00:00, 60.53it/s]\n",
      "Round 3_1: 100%|██████████████████████████████████████████████████| 207/207 [00:03<00:00, 64.52it/s]\n",
      "Round 4_1: 100%|██████████████████████████████████████████████████| 207/207 [00:03<00:00, 63.59it/s]\n",
      "Round 5_1: 100%|██████████████████████████████████████████████████| 207/207 [00:03<00:00, 61.39it/s]\n",
      "Round 6_1: 100%|██████████████████████████████████████████████████| 207/207 [00:03<00:00, 65.83it/s]\n",
      "Round 7_1: 100%|██████████████████████████████████████████████████| 207/207 [00:03<00:00, 65.37it/s]\n",
      "Round 8_1: 100%|██████████████████████████████████████████████████| 207/207 [00:03<00:00, 65.21it/s]\n",
      "Round 9_1: 100%|██████████████████████████████████████████████████| 207/207 [00:03<00:00, 61.12it/s]\n",
      "Round 10_1: 100%|█████████████████████████████████████████████████| 207/207 [00:03<00:00, 62.96it/s]\n",
      "Round 11_1: 100%|█████████████████████████████████████████████████| 207/207 [00:03<00:00, 60.80it/s]\n",
      "Round 12_1: 100%|█████████████████████████████████████████████████| 207/207 [00:03<00:00, 61.62it/s]\n",
      "Round 13_1: 100%|█████████████████████████████████████████████████| 207/207 [00:03<00:00, 55.03it/s]\n",
      "Round 14_1: 100%|█████████████████████████████████████████████████| 207/207 [00:03<00:00, 53.79it/s]\n",
      "Round 15_1: 100%|█████████████████████████████████████████████████| 207/207 [00:03<00:00, 55.63it/s]\n",
      "Round 16_1: 100%|█████████████████████████████████████████████████| 207/207 [00:03<00:00, 59.90it/s]\n",
      "Round 17_1: 100%|█████████████████████████████████████████████████| 207/207 [00:03<00:00, 61.59it/s]\n",
      "Round 18_1: 100%|█████████████████████████████████████████████████| 207/207 [00:03<00:00, 62.13it/s]\n",
      "Round 19_1: 100%|█████████████████████████████████████████████████| 207/207 [00:03<00:00, 61.26it/s]\n",
      "Round 20_1: 100%|█████████████████████████████████████████████████| 207/207 [00:03<00:00, 59.66it/s]\n",
      "Round 21_1: 100%|█████████████████████████████████████████████████| 207/207 [00:03<00:00, 60.53it/s]\n",
      "Round 22_1: 100%|█████████████████████████████████████████████████| 207/207 [00:03<00:00, 61.63it/s]\n",
      "Round 23_1: 100%|█████████████████████████████████████████████████| 207/207 [00:03<00:00, 60.55it/s]\n",
      "Round 24_1: 100%|█████████████████████████████████████████████████| 207/207 [00:03<00:00, 61.28it/s]\n",
      "Round 25_1: 100%|█████████████████████████████████████████████████| 207/207 [00:03<00:00, 60.99it/s]\n",
      "Round 26_1: 100%|█████████████████████████████████████████████████| 207/207 [00:03<00:00, 61.73it/s]\n",
      "Round 27_1: 100%|█████████████████████████████████████████████████| 207/207 [00:03<00:00, 60.30it/s]\n",
      "Round 28_1: 100%|█████████████████████████████████████████████████| 207/207 [00:03<00:00, 59.92it/s]\n",
      "Round 29_1: 100%|█████████████████████████████████████████████████| 207/207 [00:03<00:00, 60.76it/s]\n",
      "Round 30_1: 100%|█████████████████████████████████████████████████| 207/207 [00:03<00:00, 59.20it/s]\n",
      "Round 31_1: 100%|█████████████████████████████████████████████████| 207/207 [00:03<00:00, 60.83it/s]\n",
      "Round 32_1: 100%|█████████████████████████████████████████████████| 207/207 [00:03<00:00, 60.57it/s]\n",
      "Round 33_1: 100%|█████████████████████████████████████████████████| 207/207 [00:03<00:00, 60.04it/s]\n",
      "Round 34_1: 100%|█████████████████████████████████████████████████| 207/207 [00:03<00:00, 59.16it/s]\n",
      "Round 35_1: 100%|█████████████████████████████████████████████████| 207/207 [00:03<00:00, 59.85it/s]\n",
      "Round 36_1: 100%|█████████████████████████████████████████████████| 207/207 [00:03<00:00, 59.00it/s]\n",
      "Round 37_1: 100%|█████████████████████████████████████████████████| 207/207 [00:03<00:00, 58.47it/s]\n",
      "Round 38_1: 100%|█████████████████████████████████████████████████| 207/207 [00:03<00:00, 59.20it/s]\n",
      "Round 39_1: 100%|█████████████████████████████████████████████████| 207/207 [00:03<00:00, 60.48it/s]\n",
      "Round 40_1: 100%|█████████████████████████████████████████████████| 207/207 [00:03<00:00, 60.51it/s]\n",
      "Round 41_1: 100%|█████████████████████████████████████████████████| 207/207 [00:03<00:00, 61.66it/s]\n",
      "Round 42_1: 100%|█████████████████████████████████████████████████| 207/207 [00:03<00:00, 59.99it/s]\n",
      "Round 43_1: 100%|█████████████████████████████████████████████████| 207/207 [00:03<00:00, 60.07it/s]\n",
      "Round 44_1: 100%|█████████████████████████████████████████████████| 207/207 [00:03<00:00, 60.53it/s]\n",
      "Round 45_1: 100%|█████████████████████████████████████████████████| 207/207 [00:03<00:00, 59.51it/s]\n",
      "Round 46_1: 100%|█████████████████████████████████████████████████| 207/207 [00:03<00:00, 57.70it/s]\n",
      "Round 47_1: 100%|█████████████████████████████████████████████████| 207/207 [00:03<00:00, 59.15it/s]\n",
      "Round 48_1: 100%|█████████████████████████████████████████████████| 207/207 [00:03<00:00, 60.73it/s]\n",
      "Round 49_1: 100%|█████████████████████████████████████████████████| 207/207 [00:03<00:00, 60.57it/s]\n",
      "Round 50_1: 100%|█████████████████████████████████████████████████| 207/207 [00:03<00:00, 59.61it/s]\n",
      "Round 51_1: 100%|█████████████████████████████████████████████████| 207/207 [00:03<00:00, 57.98it/s]\n",
      "Round 52_1: 100%|█████████████████████████████████████████████████| 207/207 [00:03<00:00, 61.04it/s]\n",
      "Round 53_1: 100%|█████████████████████████████████████████████████| 207/207 [00:03<00:00, 58.32it/s]\n",
      "Round 54_1: 100%|█████████████████████████████████████████████████| 207/207 [00:03<00:00, 60.13it/s]\n",
      "Round 55_1: 100%|█████████████████████████████████████████████████| 207/207 [00:03<00:00, 61.12it/s]\n",
      "Round 56_1: 100%|█████████████████████████████████████████████████| 207/207 [00:03<00:00, 59.87it/s]\n",
      "Round 57_1: 100%|█████████████████████████████████████████████████| 207/207 [00:03<00:00, 60.92it/s]\n",
      "Round 58_1: 100%|█████████████████████████████████████████████████| 207/207 [00:03<00:00, 61.28it/s]\n",
      "Round 59_1: 100%|█████████████████████████████████████████████████| 207/207 [00:03<00:00, 59.85it/s]\n",
      "Round 60_1: 100%|█████████████████████████████████████████████████| 207/207 [00:03<00:00, 60.34it/s]\n",
      "Round 61_1: 100%|█████████████████████████████████████████████████| 207/207 [00:03<00:00, 60.23it/s]\n",
      "Round 62_1: 100%|█████████████████████████████████████████████████| 207/207 [00:03<00:00, 61.92it/s]\n",
      "Round 63_1: 100%|█████████████████████████████████████████████████| 207/207 [00:03<00:00, 59.56it/s]\n",
      "Round 64_1: 100%|█████████████████████████████████████████████████| 207/207 [00:03<00:00, 60.89it/s]\n",
      "Round 65_1: 100%|█████████████████████████████████████████████████| 207/207 [00:03<00:00, 60.79it/s]\n",
      "Round 66_1: 100%|█████████████████████████████████████████████████| 207/207 [00:03<00:00, 53.97it/s]\n",
      "Round 67_1: 100%|█████████████████████████████████████████████████| 207/207 [00:03<00:00, 55.04it/s]\n",
      "Round 68_1: 100%|█████████████████████████████████████████████████| 207/207 [00:03<00:00, 57.17it/s]\n",
      "Round 69_1: 100%|█████████████████████████████████████████████████| 207/207 [00:03<00:00, 57.46it/s]\n",
      "Round 70_1: 100%|█████████████████████████████████████████████████| 207/207 [00:03<00:00, 53.29it/s]\n",
      "Round 71_1: 100%|█████████████████████████████████████████████████| 207/207 [00:03<00:00, 58.69it/s]\n",
      "Round 72_1: 100%|█████████████████████████████████████████████████| 207/207 [00:03<00:00, 57.78it/s]\n",
      "Round 73_1: 100%|█████████████████████████████████████████████████| 207/207 [00:03<00:00, 54.68it/s]\n",
      "Round 74_1: 100%|█████████████████████████████████████████████████| 207/207 [00:03<00:00, 56.63it/s]\n",
      "Round 75_1: 100%|█████████████████████████████████████████████████| 207/207 [00:03<00:00, 58.12it/s]\n",
      "Round 76_1: 100%|█████████████████████████████████████████████████| 207/207 [00:03<00:00, 58.39it/s]\n",
      "Round 77_1: 100%|█████████████████████████████████████████████████| 207/207 [00:03<00:00, 56.27it/s]\n",
      "Round 78_1: 100%|█████████████████████████████████████████████████| 207/207 [00:03<00:00, 59.79it/s]\n",
      "Round 79_1: 100%|█████████████████████████████████████████████████| 207/207 [00:03<00:00, 54.11it/s]\n",
      "Round 80_1: 100%|█████████████████████████████████████████████████| 207/207 [00:03<00:00, 56.96it/s]\n",
      "Round 81_1: 100%|█████████████████████████████████████████████████| 207/207 [00:03<00:00, 56.10it/s]\n",
      "Round 82_1: 100%|█████████████████████████████████████████████████| 207/207 [00:03<00:00, 56.26it/s]\n",
      "Round 83_1: 100%|█████████████████████████████████████████████████| 207/207 [00:03<00:00, 56.87it/s]\n",
      "Round 84_1: 100%|█████████████████████████████████████████████████| 207/207 [00:03<00:00, 52.18it/s]\n",
      "Round 85_1: 100%|█████████████████████████████████████████████████| 207/207 [00:03<00:00, 59.50it/s]\n",
      "Round 86_1: 100%|█████████████████████████████████████████████████| 207/207 [00:03<00:00, 60.55it/s]\n",
      "Round 87_1: 100%|█████████████████████████████████████████████████| 207/207 [00:03<00:00, 59.99it/s]\n",
      "Round 88_1: 100%|█████████████████████████████████████████████████| 207/207 [00:03<00:00, 58.53it/s]\n",
      "Round 89_1: 100%|█████████████████████████████████████████████████| 207/207 [00:03<00:00, 60.04it/s]\n",
      "Round 90_1: 100%|█████████████████████████████████████████████████| 207/207 [00:03<00:00, 59.07it/s]\n",
      "Round 91_1: 100%|█████████████████████████████████████████████████| 207/207 [00:03<00:00, 59.89it/s]\n",
      "Round 92_1: 100%|█████████████████████████████████████████████████| 207/207 [00:03<00:00, 60.63it/s]\n",
      "Round 93_1: 100%|█████████████████████████████████████████████████| 207/207 [00:03<00:00, 59.56it/s]\n",
      "Round 94_1: 100%|█████████████████████████████████████████████████| 207/207 [00:03<00:00, 61.26it/s]\n",
      "Round 95_1: 100%|█████████████████████████████████████████████████| 207/207 [00:03<00:00, 60.67it/s]\n",
      "Round 96_1: 100%|█████████████████████████████████████████████████| 207/207 [00:03<00:00, 60.76it/s]\n",
      "Round 97_1: 100%|█████████████████████████████████████████████████| 207/207 [00:03<00:00, 59.03it/s]\n",
      "Round 98_1: 100%|█████████████████████████████████████████████████| 207/207 [00:03<00:00, 60.64it/s]\n",
      "Round 99_1: 100%|█████████████████████████████████████████████████| 207/207 [00:03<00:00, 60.06it/s]\n",
      "Round 100_1: 100%|████████████████████████████████████████████████| 207/207 [00:03<00:00, 60.58it/s]"
     ]
    },
    {
     "name": "stdout",
     "output_type": "stream",
     "text": [
      "Finished Training\n"
     ]
    },
    {
     "name": "stderr",
     "output_type": "stream",
     "text": [
      "\n"
     ]
    }
   ],
   "source": [
    "# update weights from server\n",
    "# train\n",
    "for r in range(rounds):  # loop over the dataset multiple times\n",
    "    weights = recv_msg(s)\n",
    "    ecg_net.load_state_dict(weights)\n",
    "    ecg_net.eval()\n",
    "    for local_epoch in range(local_epochs):\n",
    "        \n",
    "        for i, data in enumerate(tqdm(trainloader, ncols=100, desc='Round '+str(r+1)+'_'+str(local_epoch+1))):\n",
    "            \n",
    "            # get the inputs; data is a list of [inputs, labels]\n",
    "            inputs, labels = data\n",
    "            inputs = inputs.to(device)\n",
    "            labels = labels.clone().detach().long().to(device)\n",
    "\n",
    "            # zero the parameter gradients\n",
    "            optimizer.zero_grad()\n",
    "\n",
    "            # forward + backward + optimize\n",
    "            outputs = ecg_net(inputs)\n",
    "            loss = criterion(outputs, labels)\n",
    "            loss.backward()\n",
    "            optimizer.step()\n",
    "\n",
    "    msg = ecg_net.state_dict()\n",
    "    send_msg(s, msg)\n",
    "\n",
    "print('Finished Training')\n",
    "\n"
   ]
  },
  {
   "cell_type": "code",
   "execution_count": 20,
   "metadata": {},
   "outputs": [
    {
     "name": "stdout",
     "output_type": "stream",
     "text": [
      "Training Time: 394.81784677505493 sec\n"
     ]
    }
   ],
   "source": [
    "end_time = time.time()  #store end time\n",
    "print(\"Training Time: {} sec\".format(end_time - start_time))"
   ]
  }
 ],
 "metadata": {
  "kernelspec": {
   "display_name": "Python 3",
   "language": "python",
   "name": "python3"
  },
  "language_info": {
   "codemirror_mode": {
    "name": "ipython",
    "version": 3
   },
   "file_extension": ".py",
   "mimetype": "text/x-python",
   "name": "python",
   "nbconvert_exporter": "python",
   "pygments_lexer": "ipython3",
   "version": "3.6.10"
  }
 },
 "nbformat": 4,
 "nbformat_minor": 2
}
